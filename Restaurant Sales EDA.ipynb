{
 "cells": [
  {
   "cell_type": "code",
   "execution_count": null,
   "id": "7d84977c-192c-4080-b970-af0c1c258478",
   "metadata": {},
   "outputs": [],
   "source": [
    "##### Exploratory Data Analysis #####\n",
    "# STEPS\n",
    "# 1) IMPORT THE NECESSARY LIBRARY AND READ THE DATA\n",
    "# 2) UNDERSTANDING THE DATA\n",
    "#    DATADIS,df.info(),df.shape,df.size\n",
    "# 3) CHECK FOR DUPLICATE ROWS\n",
    "# 4) CHECK FOR DATATYPE AND CHANGE IF NECESSARY\n",
    "# 5) Separate the numeric and categorical column\n",
    "# 6) Descriptive Stat (Understanding Numerical and Categorical Data\n",
    "#    A) MEASURE OF CENTRAL TENDENCY: MEAN, MEDIAN AND MODE (ONLY MODE IS FOUND FOR CATEGORICAL DATA)\n",
    "#    B) MEASURE OF DISPERSION\n",
    "#     i)Range\n",
    "#     ii)Variance\n",
    "#     iii)Standard Deviation\n",
    "#     iv)IQR -> Middle 50% of data (Helps in finding outliers)\n",
    "#    C) MEASURE OF SHAPE\n",
    "#     i)Skewness\n",
    "#       -> types -> 1) 0 2) Positive(Right) 3) Negative (Left)\n",
    "#     ii)Kurtosis\n",
    "#       -> types -> 1) Mesokurtis (Bells shaped)->Has proper distribution of data k = 3\n",
    "#                   2) Lepokurtic (Sharp/High Peak) k > 3 \n",
    "#                   3) Platokurtic (Flat/Not so peaky) k < 3\n",
    "#     iii)CoVariance -> Measure Of relationship between 2 numeric variable [Scale dependent/Depends on unit of measurement]\n",
    "#         types -> if x and y move/change in same direction (either positive or negative) co variance is +ve\n",
    "#                  if x and y move/change in opposite direction co variance is -ve\n",
    "#                  if x and y are not dependent[Independent of each other] on each other then co variance is 0 \n",
    "#     iv)CoRelation -> Similar to Covariance but gives us a measure of relationship between numeric \n",
    "#                      variable along with the strength of the relationship [Scale Independent][Co Relation range is between 1 to -1]\n",
    "#      v)CoEfficient Of Variance -> It gives the percentage of relationship between 2 variable of different scale [Eliminates Scale of the data]\n"
   ]
  },
  {
   "cell_type": "code",
   "execution_count": null,
   "id": "eb1b2c00-a7a2-4e8a-9a7d-85141fa9b79c",
   "metadata": {},
   "outputs": [],
   "source": []
  },
  {
   "cell_type": "markdown",
   "id": "a6445707",
   "metadata": {},
   "source": [
    "# Restaurant Sales report\n",
    "**EDA and Analysis Ideas for restaurant business**"
   ]
  },
  {
   "cell_type": "markdown",
   "id": "2effe6a8",
   "metadata": {},
   "source": [
    "# File Description:\n",
    "\n",
    "#### File Format: CSV\n",
    "#### Columns: This dataset includes columns such as order_id, date, item_name, item_type, item_price, quantity, transaction_amount, transaction_type, received_by, and time_of_sale.\n",
    "#### Data Size: This file contains 1000 rows and 10 columns.\n",
    "#### Data Structure: The dataset is organized as a single CSV file, providing information on transactions at a local restaurant.\n",
    "#### Data Cleaning and Preprocessing: The data has been carefully reviewed and cleaned to address duplicates and missing values, ensuring data quality for analysis.\n",
    "#### Date of Last Update: The dataset was last updated on March 31, 2023.\n",
    "#### Special Notes: Please note that the 'transaction_amount' column represents the total transaction amount, derived from the multiplication of 'item_price' and 'quantity' for each item in the order.\n",
    "#### Data Source: This data was collected from a local restaurant situated near my home and is made available for analysis and educational purposes."
   ]
  },
  {
   "cell_type": "markdown",
   "id": "1da7bd3e",
   "metadata": {},
   "source": [
    "## Data Description:\n",
    "This dataset captures sales transactions from a local restaurant near my home. It includes details such as the order ID, date of the transaction, item names (representing various food and beverage items), item types (categorized as Fast-food or Beverages), item prices, quantities ordered, transaction amounts, transaction types (cash, online, or others), the gender of the staff member who received the order, and the time of the sale (Morning, Evening, Afternoon, Night, Midnight). The dataset offers a valuable snapshot of the restaurant's daily operations and customer behavior.\n",
    "\n",
    "### Columns:\n",
    "\n",
    "    order_id: a unique identifier for each order.\n",
    "    date: date of the transaction.\n",
    "    item_name: name of the food.\n",
    "    item_type: category of item (Fastfood or Beverages).\n",
    "    item_price: price of the item for 1 quantity.\n",
    "    Quantity: how much quantity the customer orders.\n",
    "    transaction_amount: the total amount paid by customers.\n",
    "    transaction_type: payment method (cash, online, others).\n",
    "    received_by: gender of the person handling the transaction.\n",
    "    time_of_sale: different times of the day (Morning, Evening, Afternoon, Night, Midnight)."
   ]
  },
  {
   "cell_type": "code",
   "execution_count": 12,
   "id": "8e9bcfc9",
   "metadata": {},
   "outputs": [
    {
     "data": {
      "text/html": [
       "<div>\n",
       "<style scoped>\n",
       "    .dataframe tbody tr th:only-of-type {\n",
       "        vertical-align: middle;\n",
       "    }\n",
       "\n",
       "    .dataframe tbody tr th {\n",
       "        vertical-align: top;\n",
       "    }\n",
       "\n",
       "    .dataframe thead th {\n",
       "        text-align: right;\n",
       "    }\n",
       "</style>\n",
       "<table border=\"1\" class=\"dataframe\">\n",
       "  <thead>\n",
       "    <tr style=\"text-align: right;\">\n",
       "      <th></th>\n",
       "      <th>order_id</th>\n",
       "      <th>date</th>\n",
       "      <th>item_name</th>\n",
       "      <th>item_type</th>\n",
       "      <th>item_price</th>\n",
       "      <th>quantity</th>\n",
       "      <th>transaction_amount</th>\n",
       "      <th>transaction_type</th>\n",
       "      <th>received_by</th>\n",
       "      <th>time_of_sale</th>\n",
       "    </tr>\n",
       "  </thead>\n",
       "  <tbody>\n",
       "    <tr>\n",
       "      <th>0</th>\n",
       "      <td>1</td>\n",
       "      <td>07-03-2022</td>\n",
       "      <td>Aalopuri</td>\n",
       "      <td>Fastfood</td>\n",
       "      <td>20</td>\n",
       "      <td>13</td>\n",
       "      <td>260</td>\n",
       "      <td>NaN</td>\n",
       "      <td>Mr.</td>\n",
       "      <td>Night</td>\n",
       "    </tr>\n",
       "    <tr>\n",
       "      <th>1</th>\n",
       "      <td>2</td>\n",
       "      <td>8/23/2022</td>\n",
       "      <td>Vadapav</td>\n",
       "      <td>Fastfood</td>\n",
       "      <td>20</td>\n",
       "      <td>15</td>\n",
       "      <td>300</td>\n",
       "      <td>Cash</td>\n",
       "      <td>Mr.</td>\n",
       "      <td>Afternoon</td>\n",
       "    </tr>\n",
       "    <tr>\n",
       "      <th>2</th>\n",
       "      <td>3</td>\n",
       "      <td>11/20/2022</td>\n",
       "      <td>Vadapav</td>\n",
       "      <td>Fastfood</td>\n",
       "      <td>20</td>\n",
       "      <td>1</td>\n",
       "      <td>20</td>\n",
       "      <td>Cash</td>\n",
       "      <td>Mr.</td>\n",
       "      <td>Afternoon</td>\n",
       "    </tr>\n",
       "    <tr>\n",
       "      <th>3</th>\n",
       "      <td>4</td>\n",
       "      <td>02-03-2023</td>\n",
       "      <td>Sugarcane juice</td>\n",
       "      <td>Beverages</td>\n",
       "      <td>25</td>\n",
       "      <td>6</td>\n",
       "      <td>150</td>\n",
       "      <td>Online</td>\n",
       "      <td>Mr.</td>\n",
       "      <td>Night</td>\n",
       "    </tr>\n",
       "    <tr>\n",
       "      <th>4</th>\n",
       "      <td>5</td>\n",
       "      <td>10-02-2022</td>\n",
       "      <td>Sugarcane juice</td>\n",
       "      <td>Beverages</td>\n",
       "      <td>25</td>\n",
       "      <td>8</td>\n",
       "      <td>200</td>\n",
       "      <td>Online</td>\n",
       "      <td>Mr.</td>\n",
       "      <td>Evening</td>\n",
       "    </tr>\n",
       "  </tbody>\n",
       "</table>\n",
       "</div>"
      ],
      "text/plain": [
       "   order_id        date        item_name  item_type  item_price  quantity  \\\n",
       "0         1  07-03-2022         Aalopuri   Fastfood          20        13   \n",
       "1         2   8/23/2022          Vadapav   Fastfood          20        15   \n",
       "2         3  11/20/2022          Vadapav   Fastfood          20         1   \n",
       "3         4  02-03-2023  Sugarcane juice  Beverages          25         6   \n",
       "4         5  10-02-2022  Sugarcane juice  Beverages          25         8   \n",
       "\n",
       "   transaction_amount transaction_type received_by time_of_sale  \n",
       "0                 260              NaN         Mr.        Night  \n",
       "1                 300             Cash         Mr.    Afternoon  \n",
       "2                  20             Cash         Mr.    Afternoon  \n",
       "3                 150           Online         Mr.        Night  \n",
       "4                 200           Online         Mr.      Evening  "
      ]
     },
     "execution_count": 12,
     "metadata": {},
     "output_type": "execute_result"
    }
   ],
   "source": [
    "import pandas as pd\n",
    "import numpy as np\n",
    "import seaborn as sns\n",
    "df = pd.read_csv(\"Balaji Fast Food Sales (1).csv\")\n",
    "df.head()\n"
   ]
  },
  {
   "cell_type": "code",
   "execution_count": 18,
   "id": "fbfaed62-3bb6-4e8b-a823-7854ebd8c545",
   "metadata": {},
   "outputs": [
    {
     "name": "stdout",
     "output_type": "stream",
     "text": [
      "Total number of Rows: 1000\n",
      "Total number of Columns: 10\n"
     ]
    }
   ],
   "source": [
    "df.shape\n",
    "print('Total number of Rows:',df.shape[0])\n",
    "print('Total number of Columns:',df.shape[1])"
   ]
  },
  {
   "cell_type": "code",
   "execution_count": 20,
   "id": "15eeffd9-85bd-4508-9ce9-4ce8be447b92",
   "metadata": {},
   "outputs": [
    {
     "name": "stdout",
     "output_type": "stream",
     "text": [
      "Inference:\n",
      "There are 1000 rows and 10 columns our data set\n",
      "The data is vast for the current scenario and use case\n"
     ]
    }
   ],
   "source": [
    "print('Inference:')\n",
    "print('There are 1000 rows and 10 columns our data set')\n",
    "print('The data is vast for the current scenario and use case')"
   ]
  },
  {
   "cell_type": "code",
   "execution_count": 24,
   "id": "f7f451a8-479f-453f-a5e8-0a815021844d",
   "metadata": {},
   "outputs": [
    {
     "data": {
      "text/plain": [
       "0"
      ]
     },
     "execution_count": 24,
     "metadata": {},
     "output_type": "execute_result"
    }
   ],
   "source": [
    "#### check for duplicate rows\n",
    "df.duplicated() #or\n",
    "df.duplicated().sum()\n",
    "### Inference -> There are no duplicate rows in our dataset\n"
   ]
  },
  {
   "cell_type": "code",
   "execution_count": 30,
   "id": "b61e3ac7-043a-4cb5-afd2-83b4485aafcb",
   "metadata": {},
   "outputs": [
    {
     "data": {
      "text/html": [
       "<div>\n",
       "<style scoped>\n",
       "    .dataframe tbody tr th:only-of-type {\n",
       "        vertical-align: middle;\n",
       "    }\n",
       "\n",
       "    .dataframe tbody tr th {\n",
       "        vertical-align: top;\n",
       "    }\n",
       "\n",
       "    .dataframe thead th {\n",
       "        text-align: right;\n",
       "    }\n",
       "</style>\n",
       "<table border=\"1\" class=\"dataframe\">\n",
       "  <thead>\n",
       "    <tr style=\"text-align: right;\">\n",
       "      <th></th>\n",
       "      <th>order_id</th>\n",
       "      <th>date</th>\n",
       "      <th>item_name</th>\n",
       "      <th>item_type</th>\n",
       "      <th>item_price</th>\n",
       "      <th>quantity</th>\n",
       "      <th>transaction_amount</th>\n",
       "      <th>transaction_type</th>\n",
       "      <th>received_by</th>\n",
       "      <th>time_of_sale</th>\n",
       "    </tr>\n",
       "  </thead>\n",
       "  <tbody>\n",
       "    <tr>\n",
       "      <th>0</th>\n",
       "      <td>1</td>\n",
       "      <td>07/03/2022</td>\n",
       "      <td>Aalopuri</td>\n",
       "      <td>Fastfood</td>\n",
       "      <td>20</td>\n",
       "      <td>13</td>\n",
       "      <td>260</td>\n",
       "      <td>NaN</td>\n",
       "      <td>Mr.</td>\n",
       "      <td>Night</td>\n",
       "    </tr>\n",
       "    <tr>\n",
       "      <th>1</th>\n",
       "      <td>2</td>\n",
       "      <td>8/23/2022</td>\n",
       "      <td>Vadapav</td>\n",
       "      <td>Fastfood</td>\n",
       "      <td>20</td>\n",
       "      <td>15</td>\n",
       "      <td>300</td>\n",
       "      <td>Cash</td>\n",
       "      <td>Mr.</td>\n",
       "      <td>Afternoon</td>\n",
       "    </tr>\n",
       "    <tr>\n",
       "      <th>2</th>\n",
       "      <td>3</td>\n",
       "      <td>11/20/2022</td>\n",
       "      <td>Vadapav</td>\n",
       "      <td>Fastfood</td>\n",
       "      <td>20</td>\n",
       "      <td>1</td>\n",
       "      <td>20</td>\n",
       "      <td>Cash</td>\n",
       "      <td>Mr.</td>\n",
       "      <td>Afternoon</td>\n",
       "    </tr>\n",
       "    <tr>\n",
       "      <th>3</th>\n",
       "      <td>4</td>\n",
       "      <td>02/03/2023</td>\n",
       "      <td>Sugarcane juice</td>\n",
       "      <td>Beverages</td>\n",
       "      <td>25</td>\n",
       "      <td>6</td>\n",
       "      <td>150</td>\n",
       "      <td>Online</td>\n",
       "      <td>Mr.</td>\n",
       "      <td>Night</td>\n",
       "    </tr>\n",
       "    <tr>\n",
       "      <th>4</th>\n",
       "      <td>5</td>\n",
       "      <td>10/02/2022</td>\n",
       "      <td>Sugarcane juice</td>\n",
       "      <td>Beverages</td>\n",
       "      <td>25</td>\n",
       "      <td>8</td>\n",
       "      <td>200</td>\n",
       "      <td>Online</td>\n",
       "      <td>Mr.</td>\n",
       "      <td>Evening</td>\n",
       "    </tr>\n",
       "    <tr>\n",
       "      <th>...</th>\n",
       "      <td>...</td>\n",
       "      <td>...</td>\n",
       "      <td>...</td>\n",
       "      <td>...</td>\n",
       "      <td>...</td>\n",
       "      <td>...</td>\n",
       "      <td>...</td>\n",
       "      <td>...</td>\n",
       "      <td>...</td>\n",
       "      <td>...</td>\n",
       "    </tr>\n",
       "    <tr>\n",
       "      <th>995</th>\n",
       "      <td>996</td>\n",
       "      <td>3/19/2023</td>\n",
       "      <td>Frankie</td>\n",
       "      <td>Fastfood</td>\n",
       "      <td>50</td>\n",
       "      <td>10</td>\n",
       "      <td>500</td>\n",
       "      <td>NaN</td>\n",
       "      <td>Mrs.</td>\n",
       "      <td>Evening</td>\n",
       "    </tr>\n",
       "    <tr>\n",
       "      <th>996</th>\n",
       "      <td>997</td>\n",
       "      <td>9/20/2022</td>\n",
       "      <td>Sandwich</td>\n",
       "      <td>Fastfood</td>\n",
       "      <td>60</td>\n",
       "      <td>7</td>\n",
       "      <td>420</td>\n",
       "      <td>NaN</td>\n",
       "      <td>Mr.</td>\n",
       "      <td>Evening</td>\n",
       "    </tr>\n",
       "    <tr>\n",
       "      <th>997</th>\n",
       "      <td>998</td>\n",
       "      <td>1/26/2023</td>\n",
       "      <td>Sandwich</td>\n",
       "      <td>Fastfood</td>\n",
       "      <td>60</td>\n",
       "      <td>13</td>\n",
       "      <td>780</td>\n",
       "      <td>NaN</td>\n",
       "      <td>Mr.</td>\n",
       "      <td>Evening</td>\n",
       "    </tr>\n",
       "    <tr>\n",
       "      <th>998</th>\n",
       "      <td>999</td>\n",
       "      <td>8/27/2022</td>\n",
       "      <td>Panipuri</td>\n",
       "      <td>Fastfood</td>\n",
       "      <td>20</td>\n",
       "      <td>5</td>\n",
       "      <td>100</td>\n",
       "      <td>NaN</td>\n",
       "      <td>Mrs.</td>\n",
       "      <td>Afternoon</td>\n",
       "    </tr>\n",
       "    <tr>\n",
       "      <th>999</th>\n",
       "      <td>1000</td>\n",
       "      <td>5/29/2022</td>\n",
       "      <td>Aalopuri</td>\n",
       "      <td>Fastfood</td>\n",
       "      <td>20</td>\n",
       "      <td>3</td>\n",
       "      <td>60</td>\n",
       "      <td>Online</td>\n",
       "      <td>Mrs.</td>\n",
       "      <td>Midnight</td>\n",
       "    </tr>\n",
       "  </tbody>\n",
       "</table>\n",
       "<p>1000 rows × 10 columns</p>\n",
       "</div>"
      ],
      "text/plain": [
       "     order_id        date        item_name  item_type  item_price  quantity  \\\n",
       "0           1  07/03/2022         Aalopuri   Fastfood          20        13   \n",
       "1           2   8/23/2022          Vadapav   Fastfood          20        15   \n",
       "2           3  11/20/2022          Vadapav   Fastfood          20         1   \n",
       "3           4  02/03/2023  Sugarcane juice  Beverages          25         6   \n",
       "4           5  10/02/2022  Sugarcane juice  Beverages          25         8   \n",
       "..        ...         ...              ...        ...         ...       ...   \n",
       "995       996   3/19/2023          Frankie   Fastfood          50        10   \n",
       "996       997   9/20/2022         Sandwich   Fastfood          60         7   \n",
       "997       998   1/26/2023         Sandwich   Fastfood          60        13   \n",
       "998       999   8/27/2022         Panipuri   Fastfood          20         5   \n",
       "999      1000   5/29/2022         Aalopuri   Fastfood          20         3   \n",
       "\n",
       "     transaction_amount transaction_type received_by time_of_sale  \n",
       "0                   260              NaN         Mr.        Night  \n",
       "1                   300             Cash         Mr.    Afternoon  \n",
       "2                    20             Cash         Mr.    Afternoon  \n",
       "3                   150           Online         Mr.        Night  \n",
       "4                   200           Online         Mr.      Evening  \n",
       "..                  ...              ...         ...          ...  \n",
       "995                 500              NaN        Mrs.      Evening  \n",
       "996                 420              NaN         Mr.      Evening  \n",
       "997                 780              NaN         Mr.      Evening  \n",
       "998                 100              NaN        Mrs.    Afternoon  \n",
       "999                  60           Online        Mrs.     Midnight  \n",
       "\n",
       "[1000 rows x 10 columns]"
      ]
     },
     "execution_count": 30,
     "metadata": {},
     "output_type": "execute_result"
    }
   ],
   "source": [
    "# Changing data type as necessary (eg -> Date)\n",
    "df['date'] = df['date'].str.replace('-','/') # we are replacing '-' with '/' in the date column throughout our \n",
    "# dataset to make it common and for easier manipulation if required\n"
   ]
  },
  {
   "cell_type": "code",
   "execution_count": 36,
   "id": "0b161f1a-88a5-4e84-945a-bcd3203c49be",
   "metadata": {},
   "outputs": [
    {
     "data": {
      "text/plain": [
       "0     2022-07-03\n",
       "1     2022-08-23\n",
       "2     2022-11-20\n",
       "3     2023-02-03\n",
       "4     2022-10-02\n",
       "         ...    \n",
       "995   2023-03-19\n",
       "996   2022-09-20\n",
       "997   2023-01-26\n",
       "998   2022-08-27\n",
       "999   2022-05-29\n",
       "Name: date, Length: 1000, dtype: datetime64[ns]"
      ]
     },
     "execution_count": 36,
     "metadata": {},
     "output_type": "execute_result"
    }
   ],
   "source": [
    "### Change the data type of column date from string to datetime\n",
    "df['date']=pd.to_datetime(df['date'])\n",
    "df['date']"
   ]
  },
  {
   "cell_type": "code",
   "execution_count": 44,
   "id": "6b73d33a-23e2-4fdf-bd91-e400d9defc85",
   "metadata": {},
   "outputs": [],
   "source": [
    "### Separate numerical and categorical data\n",
    "col = df.columns.to_list() # Lists all columns in our dataset\n",
    "num = df.select_dtypes(include = np.number).columns.to_list() #We are creating 'num' to access only the numerical columns in our dataset\n",
    "cat = df.select_dtypes(exclude = np.number).columns.to_list() #We are creating 'cat' to access only the categorical columns in our dataset"
   ]
  },
  {
   "cell_type": "code",
   "execution_count": 48,
   "id": "3088b6bb-ec43-479e-9ed0-7454dbcfd217",
   "metadata": {},
   "outputs": [
    {
     "name": "stdout",
     "output_type": "stream",
     "text": [
      "Mean of  order_id is: 500.5\n",
      "Mean of  item_price is: 33.315\n",
      "Mean of  quantity is: 8.162\n",
      "Mean of  transaction_amount is: 275.23\n"
     ]
    }
   ],
   "source": [
    "### FINDING MEAN for numerical variable\n",
    "for i in num:\n",
    "    print('Mean of ',i,'is:',df[i].mean())"
   ]
  },
  {
   "cell_type": "code",
   "execution_count": 52,
   "id": "11770ad5-37ff-4b4d-aee5-323435e81856",
   "metadata": {},
   "outputs": [
    {
     "name": "stdout",
     "output_type": "stream",
     "text": [
      "Median of order_id is: 500.5\n",
      "Median of item_price is: 25.0\n",
      "Median of quantity is: 8.0\n",
      "Median of transaction_amount is: 240.0\n"
     ]
    }
   ],
   "source": [
    "### FINDING MEDIAN for numerical variable\n",
    "for i in num:\n",
    "    print('Median of',i,'is:',df[i].median())"
   ]
  },
  {
   "cell_type": "code",
   "execution_count": 56,
   "id": "2741963b-6cbf-46a0-89bc-8180d4548e21",
   "metadata": {},
   "outputs": [
    {
     "name": "stdout",
     "output_type": "stream",
     "text": [
      "Mode of order_id is 0         1\n",
      "1         2\n",
      "2         3\n",
      "3         4\n",
      "4         5\n",
      "       ... \n",
      "995     996\n",
      "996     997\n",
      "997     998\n",
      "998     999\n",
      "999    1000\n",
      "Name: order_id, Length: 1000, dtype: int64\n",
      "Mode of item_price is 0    20\n",
      "Name: item_price, dtype: int64\n",
      "Mode of quantity is 0    13\n",
      "Name: quantity, dtype: int64\n",
      "Mode of transaction_amount is 0    300\n",
      "Name: transaction_amount, dtype: int64\n"
     ]
    }
   ],
   "source": [
    "### FINDING MODE for numerical variable\n",
    "for i in num:\n",
    "    print('Mode of',i,'is',df[i].mode())"
   ]
  },
  {
   "cell_type": "code",
   "execution_count": 80,
   "id": "eca2c988-2411-4d8e-b06d-d4233cee4fd4",
   "metadata": {},
   "outputs": [
    {
     "name": "stdout",
     "output_type": "stream",
     "text": [
      "Mode of  date is: 0   2022-05-09\n",
      "1   2022-08-31\n",
      "2   2022-10-11\n",
      "Name: date, dtype: datetime64[ns]\n",
      "\n",
      "*******\n",
      "Mode of  item_name is: 0    Cold coffee\n",
      "Name: item_name, dtype: object\n",
      "\n",
      "*******\n",
      "Mode of  item_type is: 0    Fastfood\n",
      "Name: item_type, dtype: object\n",
      "\n",
      "*******\n",
      "Mode of  transaction_type is: 0    Cash\n",
      "Name: transaction_type, dtype: object\n",
      "\n",
      "*******\n",
      "Mode of  received_by is: 0    Mr.\n",
      "Name: received_by, dtype: object\n",
      "\n",
      "*******\n",
      "Mode of  time_of_sale is: 0    Afternoon\n",
      "1        Night\n",
      "Name: time_of_sale, dtype: object\n",
      "\n",
      "*******\n",
      "Mode of  date is: date\n",
      "2022-10-11    8\n",
      "2022-05-09    8\n",
      "2022-08-31    8\n",
      "2023-03-19    7\n",
      "2023-02-03    7\n",
      "             ..\n",
      "2022-06-12    1\n",
      "2022-04-15    1\n",
      "2022-05-17    1\n",
      "2022-07-23    1\n",
      "2022-06-14    1\n",
      "Name: count, Length: 348, dtype: int64\n",
      "\n",
      "*******\n",
      "Mode of  item_name is: item_name\n",
      "Cold coffee        161\n",
      "Sugarcane juice    153\n",
      "Panipuri           150\n",
      "Frankie            139\n",
      "Aalopuri           134\n",
      "Vadapav            134\n",
      "Sandwich           129\n",
      "Name: count, dtype: int64\n",
      "\n",
      "*******\n",
      "Mode of  item_type is: item_type\n",
      "Fastfood     686\n",
      "Beverages    314\n",
      "Name: count, dtype: int64\n",
      "\n",
      "*******\n",
      "Mode of  transaction_type is: transaction_type\n",
      "Cash      476\n",
      "Online    417\n",
      "Name: count, dtype: int64\n",
      "\n",
      "*******\n",
      "Mode of  received_by is: received_by\n",
      "Mr.     512\n",
      "Mrs.    488\n",
      "Name: count, dtype: int64\n",
      "\n",
      "*******\n",
      "Mode of  time_of_sale is: time_of_sale\n",
      "Night        205\n",
      "Afternoon    205\n",
      "Evening      201\n",
      "Midnight     199\n",
      "Morning      190\n",
      "Name: count, dtype: int64\n",
      "\n",
      "*******\n",
      "Mode of  date is: date\n",
      "2022-10-11    0.8\n",
      "2022-05-09    0.8\n",
      "2022-08-31    0.8\n",
      "2023-03-19    0.7\n",
      "2023-02-03    0.7\n",
      "             ... \n",
      "2022-06-12    0.1\n",
      "2022-04-15    0.1\n",
      "2022-05-17    0.1\n",
      "2022-07-23    0.1\n",
      "2022-06-14    0.1\n",
      "Name: proportion, Length: 348, dtype: float64\n",
      "\n",
      "*******\n",
      "Mode of  item_name is: item_name\n",
      "Cold coffee        16.1\n",
      "Sugarcane juice    15.3\n",
      "Panipuri           15.0\n",
      "Frankie            13.9\n",
      "Aalopuri           13.4\n",
      "Vadapav            13.4\n",
      "Sandwich           12.9\n",
      "Name: proportion, dtype: float64\n",
      "\n",
      "*******\n",
      "Mode of  item_type is: item_type\n",
      "Fastfood     68.6\n",
      "Beverages    31.4\n",
      "Name: proportion, dtype: float64\n",
      "\n",
      "*******\n",
      "Mode of  transaction_type is: transaction_type\n",
      "Cash      53.303471\n",
      "Online    46.696529\n",
      "Name: proportion, dtype: float64\n",
      "\n",
      "*******\n",
      "Mode of  received_by is: received_by\n",
      "Mr.     51.2\n",
      "Mrs.    48.8\n",
      "Name: proportion, dtype: float64\n",
      "\n",
      "*******\n",
      "Mode of  time_of_sale is: time_of_sale\n",
      "Night        20.5\n",
      "Afternoon    20.5\n",
      "Evening      20.1\n",
      "Midnight     19.9\n",
      "Morning      19.0\n",
      "Name: proportion, dtype: float64\n",
      "\n",
      "*******\n"
     ]
    }
   ],
   "source": [
    "### FINDING MODE for categorical variable\n",
    "for i in cat:\n",
    "    print('Mode of ',i,'is:',df[i].mode())\n",
    "    print()\n",
    "    print('*******')\n",
    "for i in cat:\n",
    "    print('Mode of ',i,'is:',df[i].value_counts()) #### Max value of value count is mode\n",
    "    print()\n",
    "    print('*******')\n",
    "for i in cat:\n",
    "    print('Mode of ',i,'is:',df[i].value_counts(normalize = True)*100) #### Normalise * 100 gives value in percentage\n",
    "    print()\n",
    "    print('*******')"
   ]
  },
  {
   "cell_type": "code",
   "execution_count": 76,
   "id": "6147bb31-a815-46be-bb71-81e6b45b832c",
   "metadata": {},
   "outputs": [
    {
     "name": "stdout",
     "output_type": "stream",
     "text": [
      "Unique categories in column date is: <DatetimeArray>\n",
      "['2022-07-03 00:00:00', '2022-08-23 00:00:00', '2022-11-20 00:00:00',\n",
      " '2023-02-03 00:00:00', '2022-10-02 00:00:00', '2022-11-14 00:00:00',\n",
      " '2022-05-03 00:00:00', '2022-12-22 00:00:00', '2022-06-10 00:00:00',\n",
      " '2022-09-16 00:00:00',\n",
      " ...\n",
      " '2023-03-06 00:00:00', '2023-02-21 00:00:00', '2023-02-19 00:00:00',\n",
      " '2023-01-07 00:00:00', '2022-09-24 00:00:00', '2022-06-29 00:00:00',\n",
      " '2022-11-21 00:00:00', '2023-01-22 00:00:00', '2023-03-30 00:00:00',\n",
      " '2022-06-14 00:00:00']\n",
      "Length: 348, dtype: datetime64[ns]\n",
      "\n",
      "******\n",
      "Unique categories in column item_name is: ['Aalopuri' 'Vadapav' 'Sugarcane juice' 'Panipuri' 'Frankie' 'Sandwich'\n",
      " 'Cold coffee']\n",
      "\n",
      "******\n",
      "Unique categories in column item_type is: ['Fastfood' 'Beverages']\n",
      "\n",
      "******\n",
      "Unique categories in column transaction_type is: [nan 'Cash' 'Online']\n",
      "\n",
      "******\n",
      "Unique categories in column received_by is: ['Mr.' 'Mrs.']\n",
      "\n",
      "******\n",
      "Unique categories in column time_of_sale is: ['Night' 'Afternoon' 'Evening' 'Morning' 'Midnight']\n",
      "\n",
      "******\n"
     ]
    }
   ],
   "source": [
    "### Find Unique \n",
    "for i in cat:\n",
    "    print('Unique categories in column',i,'is:',(df[i].unique()))\n",
    "    print()\n",
    "    print('******')"
   ]
  },
  {
   "cell_type": "code",
   "execution_count": 84,
   "id": "f78783dd-a06a-49c0-acec-780be7c8daa0",
   "metadata": {},
   "outputs": [
    {
     "name": "stdout",
     "output_type": "stream",
     "text": [
      "Range of column order_id is 999\n",
      "Range of column item_price is 40\n",
      "Range of column quantity is 14\n",
      "Range of column transaction_amount is 880\n"
     ]
    }
   ],
   "source": [
    "##### Measures Of Dispersion #####\n",
    "# Range-> Max - Min\n",
    "for i in num:\n",
    "    print('Range of column',i,'is',df[i].max()-df[i].min())"
   ]
  },
  {
   "cell_type": "code",
   "execution_count": 86,
   "id": "fcc0f20e-92ff-44a1-836f-4a4db2b0f1c0",
   "metadata": {},
   "outputs": [
    {
     "name": "stdout",
     "output_type": "stream",
     "text": [
      "Variance of Column: order_id is 83416.66666666667\n",
      "Variance of Column: item_price is 222.65843343343138\n",
      "Variance of Column: quantity is 19.475231231231273\n",
      "Variance of Column: transaction_amount is 41780.57767767783\n"
     ]
    }
   ],
   "source": [
    "### Variance\n",
    "for i in num:\n",
    "    print('Variance of Column:',i,'is',df[i].var())"
   ]
  },
  {
   "cell_type": "code",
   "execution_count": 88,
   "id": "f1ac0a6f-4a1f-40e5-8ca1-e0f707096e4c",
   "metadata": {},
   "outputs": [
    {
     "name": "stdout",
     "output_type": "stream",
     "text": [
      "Std Deviation of Column order_id is 288.8194360957494\n",
      "Std Deviation of Column item_price is 14.921743645882387\n",
      "Std Deviation of Column quantity is 4.413075031226104\n",
      "Std Deviation of Column transaction_amount is 204.4029786418922\n"
     ]
    }
   ],
   "source": [
    "### Standard Deviation\n",
    "for i in num:\n",
    "    print('Std Deviation of Column',i,'is',df[i].std())\n",
    "#Inference -> Standard deviation is least in quantity and most in order_id"
   ]
  },
  {
   "cell_type": "code",
   "execution_count": 90,
   "id": "6899a30b-ca23-47d2-a020-64721f80a5e6",
   "metadata": {},
   "outputs": [
    {
     "name": "stdout",
     "output_type": "stream",
     "text": [
      "IQR Value of column order_id is 499.5\n",
      "IQR Value of column item_price is 30.0\n",
      "IQR Value of column quantity is 8.0\n",
      "IQR Value of column transaction_amount is 240.0\n"
     ]
    }
   ],
   "source": [
    "### IQR -> Middle 50% of data # Used to find outliers\n",
    "for i in num:\n",
    "    print('IQR Value of column',i,'is',df[i].quantile(0.75) - df[i].quantile(0.25))\n",
    "    # as there is no direct function to find IQR we use quantle to of middle value from .25 to .75 to find IQR\n",
    "\n"
   ]
  },
  {
   "cell_type": "code",
   "execution_count": 92,
   "id": "e6d4cf0e-56f3-486e-a9d8-39206bab480e",
   "metadata": {},
   "outputs": [
    {
     "name": "stdout",
     "output_type": "stream",
     "text": [
      "Skewness value of column order_id is 0.0\n",
      "Skewness value of column item_price is 0.6250044803515558\n",
      "Skewness value of column quantity is -0.05129947454908782\n",
      "Skewness value of column transaction_amount is 1.052643178230624\n"
     ]
    }
   ],
   "source": [
    "#Measures Of Shape\n",
    "#Skewness\n",
    "for i in num:\n",
    "    print('Skewness value of column',i,'is',df[i].skew())"
   ]
  },
  {
   "cell_type": "code",
   "execution_count": 94,
   "id": "aa2dee85-ecc6-4c0f-97c9-98c20bad4fb4",
   "metadata": {},
   "outputs": [
    {
     "name": "stdout",
     "output_type": "stream",
     "text": [
      "Skewness value of column order_id is -1.2\n",
      "Skewness value of column item_price is -1.173262217524134\n",
      "Skewness value of column quantity is -1.2416861155903576\n",
      "Skewness value of column transaction_amount is 0.6554065709917558\n"
     ]
    }
   ],
   "source": [
    "#Kurtosis\n",
    "for i in num:\n",
    "    print('Skewness value of column',i,'is',df[i].kurt())"
   ]
  },
  {
   "cell_type": "code",
   "execution_count": 100,
   "id": "7bc8449b-b960-4555-b8a8-a71539ea8c3d",
   "metadata": {},
   "outputs": [
    {
     "data": {
      "text/html": [
       "<div>\n",
       "<style scoped>\n",
       "    .dataframe tbody tr th:only-of-type {\n",
       "        vertical-align: middle;\n",
       "    }\n",
       "\n",
       "    .dataframe tbody tr th {\n",
       "        vertical-align: top;\n",
       "    }\n",
       "\n",
       "    .dataframe thead th {\n",
       "        text-align: right;\n",
       "    }\n",
       "</style>\n",
       "<table border=\"1\" class=\"dataframe\">\n",
       "  <thead>\n",
       "    <tr style=\"text-align: right;\">\n",
       "      <th></th>\n",
       "      <th>order_id</th>\n",
       "      <th>item_price</th>\n",
       "      <th>quantity</th>\n",
       "      <th>transaction_amount</th>\n",
       "    </tr>\n",
       "  </thead>\n",
       "  <tbody>\n",
       "    <tr>\n",
       "      <th>order_id</th>\n",
       "      <td>83416.666667</td>\n",
       "      <td>159.577077</td>\n",
       "      <td>13.185185</td>\n",
       "      <td>2595.785786</td>\n",
       "    </tr>\n",
       "    <tr>\n",
       "      <th>item_price</th>\n",
       "      <td>159.577077</td>\n",
       "      <td>222.658433</td>\n",
       "      <td>3.316286</td>\n",
       "      <td>1943.606156</td>\n",
       "    </tr>\n",
       "    <tr>\n",
       "      <th>quantity</th>\n",
       "      <td>13.185185</td>\n",
       "      <td>3.316286</td>\n",
       "      <td>19.475231</td>\n",
       "      <td>660.122863</td>\n",
       "    </tr>\n",
       "    <tr>\n",
       "      <th>transaction_amount</th>\n",
       "      <td>2595.785786</td>\n",
       "      <td>1943.606156</td>\n",
       "      <td>660.122863</td>\n",
       "      <td>41780.577678</td>\n",
       "    </tr>\n",
       "  </tbody>\n",
       "</table>\n",
       "</div>"
      ],
      "text/plain": [
       "                        order_id   item_price    quantity  transaction_amount\n",
       "order_id            83416.666667   159.577077   13.185185         2595.785786\n",
       "item_price            159.577077   222.658433    3.316286         1943.606156\n",
       "quantity               13.185185     3.316286   19.475231          660.122863\n",
       "transaction_amount   2595.785786  1943.606156  660.122863        41780.577678"
      ]
     },
     "execution_count": 100,
     "metadata": {},
     "output_type": "execute_result"
    }
   ],
   "source": [
    "#CoVariance\n",
    "df[num].cov()"
   ]
  },
  {
   "cell_type": "code",
   "execution_count": 102,
   "id": "d53f11ee-b69e-49d9-86a7-399c34a1d63c",
   "metadata": {},
   "outputs": [
    {
     "data": {
      "text/html": [
       "<div>\n",
       "<style scoped>\n",
       "    .dataframe tbody tr th:only-of-type {\n",
       "        vertical-align: middle;\n",
       "    }\n",
       "\n",
       "    .dataframe tbody tr th {\n",
       "        vertical-align: top;\n",
       "    }\n",
       "\n",
       "    .dataframe thead th {\n",
       "        text-align: right;\n",
       "    }\n",
       "</style>\n",
       "<table border=\"1\" class=\"dataframe\">\n",
       "  <thead>\n",
       "    <tr style=\"text-align: right;\">\n",
       "      <th></th>\n",
       "      <th>order_id</th>\n",
       "      <th>item_price</th>\n",
       "      <th>quantity</th>\n",
       "      <th>transaction_amount</th>\n",
       "    </tr>\n",
       "  </thead>\n",
       "  <tbody>\n",
       "    <tr>\n",
       "      <th>order_id</th>\n",
       "      <td>1.000000</td>\n",
       "      <td>0.037028</td>\n",
       "      <td>0.010345</td>\n",
       "      <td>0.043970</td>\n",
       "    </tr>\n",
       "    <tr>\n",
       "      <th>item_price</th>\n",
       "      <td>0.037028</td>\n",
       "      <td>1.000000</td>\n",
       "      <td>0.050361</td>\n",
       "      <td>0.637238</td>\n",
       "    </tr>\n",
       "    <tr>\n",
       "      <th>quantity</th>\n",
       "      <td>0.010345</td>\n",
       "      <td>0.050361</td>\n",
       "      <td>1.000000</td>\n",
       "      <td>0.731806</td>\n",
       "    </tr>\n",
       "    <tr>\n",
       "      <th>transaction_amount</th>\n",
       "      <td>0.043970</td>\n",
       "      <td>0.637238</td>\n",
       "      <td>0.731806</td>\n",
       "      <td>1.000000</td>\n",
       "    </tr>\n",
       "  </tbody>\n",
       "</table>\n",
       "</div>"
      ],
      "text/plain": [
       "                    order_id  item_price  quantity  transaction_amount\n",
       "order_id            1.000000    0.037028  0.010345            0.043970\n",
       "item_price          0.037028    1.000000  0.050361            0.637238\n",
       "quantity            0.010345    0.050361  1.000000            0.731806\n",
       "transaction_amount  0.043970    0.637238  0.731806            1.000000"
      ]
     },
     "execution_count": 102,
     "metadata": {},
     "output_type": "execute_result"
    }
   ],
   "source": [
    "#CoRelation\n",
    "df[num].corr()\n",
    "#inference -> the strength of r/s is greatest b/w quantity and transaction_amount and least between item_price and order_id"
   ]
  },
  {
   "cell_type": "code",
   "execution_count": 112,
   "id": "3c96a8f0-0274-41d3-b411-9dd6adcc1be9",
   "metadata": {},
   "outputs": [
    {
     "data": {
      "text/html": [
       "<div>\n",
       "<style scoped>\n",
       "    .dataframe tbody tr th:only-of-type {\n",
       "        vertical-align: middle;\n",
       "    }\n",
       "\n",
       "    .dataframe tbody tr th {\n",
       "        vertical-align: top;\n",
       "    }\n",
       "\n",
       "    .dataframe thead th {\n",
       "        text-align: right;\n",
       "    }\n",
       "</style>\n",
       "<table border=\"1\" class=\"dataframe\">\n",
       "  <thead>\n",
       "    <tr style=\"text-align: right;\">\n",
       "      <th></th>\n",
       "      <th>item_name</th>\n",
       "      <th>item_type</th>\n",
       "      <th>transaction_type</th>\n",
       "      <th>received_by</th>\n",
       "      <th>time_of_sale</th>\n",
       "    </tr>\n",
       "  </thead>\n",
       "  <tbody>\n",
       "    <tr>\n",
       "      <th>count</th>\n",
       "      <td>1000</td>\n",
       "      <td>1000</td>\n",
       "      <td>893</td>\n",
       "      <td>1000</td>\n",
       "      <td>1000</td>\n",
       "    </tr>\n",
       "    <tr>\n",
       "      <th>unique</th>\n",
       "      <td>7</td>\n",
       "      <td>2</td>\n",
       "      <td>2</td>\n",
       "      <td>2</td>\n",
       "      <td>5</td>\n",
       "    </tr>\n",
       "    <tr>\n",
       "      <th>top</th>\n",
       "      <td>Cold coffee</td>\n",
       "      <td>Fastfood</td>\n",
       "      <td>Cash</td>\n",
       "      <td>Mr.</td>\n",
       "      <td>Night</td>\n",
       "    </tr>\n",
       "    <tr>\n",
       "      <th>freq</th>\n",
       "      <td>161</td>\n",
       "      <td>686</td>\n",
       "      <td>476</td>\n",
       "      <td>512</td>\n",
       "      <td>205</td>\n",
       "    </tr>\n",
       "  </tbody>\n",
       "</table>\n",
       "</div>"
      ],
      "text/plain": [
       "          item_name item_type transaction_type received_by time_of_sale\n",
       "count          1000      1000              893        1000         1000\n",
       "unique            7         2                2           2            5\n",
       "top     Cold coffee  Fastfood             Cash         Mr.        Night\n",
       "freq            161       686              476         512          205"
      ]
     },
     "execution_count": 112,
     "metadata": {},
     "output_type": "execute_result"
    }
   ],
   "source": [
    "#Five Point Summary/Describe\n",
    "df[num].describe() # For numerial data\n",
    "df[cat].describe(include = 'object') # For categorical data"
   ]
  },
  {
   "cell_type": "code",
   "execution_count": null,
   "id": "7e5885ce-a88f-47b4-a67f-b966f619bb1c",
   "metadata": {},
   "outputs": [],
   "source": []
  }
 ],
 "metadata": {
  "kernelspec": {
   "display_name": "Python 3 (ipykernel)",
   "language": "python",
   "name": "python3"
  },
  "language_info": {
   "codemirror_mode": {
    "name": "ipython",
    "version": 3
   },
   "file_extension": ".py",
   "mimetype": "text/x-python",
   "name": "python",
   "nbconvert_exporter": "python",
   "pygments_lexer": "ipython3",
   "version": "3.11.7"
  }
 },
 "nbformat": 4,
 "nbformat_minor": 5
}
